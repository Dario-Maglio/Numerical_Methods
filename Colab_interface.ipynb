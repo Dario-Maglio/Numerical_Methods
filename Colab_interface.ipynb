{
  "nbformat": 4,
  "nbformat_minor": 0,
  "metadata": {
    "colab": {
      "provenance": [],
      "include_colab_link": true
    },
    "kernelspec": {
      "name": "python3",
      "display_name": "Python 3"
    },
    "language_info": {
      "name": "python"
    }
  },
  "cells": [
    {
      "cell_type": "markdown",
      "metadata": {
        "id": "view-in-github",
        "colab_type": "text"
      },
      "source": [
        "<a href=\"https://colab.research.google.com/github/Dario-Maglio/Numerical_methods/blob/main/Colab_interface.ipynb\" target=\"_parent\"><img src=\"https://colab.research.google.com/assets/colab-badge.svg\" alt=\"Open In Colab\"/></a>"
      ]
    },
    {
      "cell_type": "markdown",
      "source": [
        "#Colab interface for the \"Metodi numerici\" course\n",
        "\n",
        "\n",
        "\n",
        "1.   Monte Carlo simulation -> Prof. D'Elia\n",
        "2.   Quantum Ising 1D -> Prof. Rossini\n",
        "3.   Path integral simulation -> Prof. D'Elia\n",
        "\n"
      ],
      "metadata": {
        "id": "lIl09lQS-Lcd"
      }
    },
    {
      "cell_type": "markdown",
      "source": [
        "#Get started"
      ],
      "metadata": {
        "id": "4cU4FuEE-YTz"
      }
    },
    {
      "cell_type": "markdown",
      "source": [
        "Taking attention to the path of the folder we are working in"
      ],
      "metadata": {
        "id": "Bp-Zn5yZQop4"
      }
    },
    {
      "cell_type": "code",
      "source": [
        "!pwd                     # show current path"
      ],
      "metadata": {
        "id": "7bjdiydPEtnS"
      },
      "execution_count": null,
      "outputs": []
    },
    {
      "cell_type": "markdown",
      "source": [
        "Download useful packages - usually not required in Colab"
      ],
      "metadata": {
        "id": "G-Mub-aGRMo9"
      }
    },
    {
      "cell_type": "code",
      "source": [
        "!apt-get install git\n",
        "!pip install numpy matplotlib"
      ],
      "metadata": {
        "id": "0dyO9X6zRNA1"
      },
      "execution_count": null,
      "outputs": []
    },
    {
      "cell_type": "markdown",
      "source": [
        "Clone the repository and change the current directory"
      ],
      "metadata": {
        "id": "YLh8_glYGSI6"
      }
    },
    {
      "cell_type": "code",
      "execution_count": null,
      "metadata": {
        "id": "NhbD7ZH7-BCZ"
      },
      "outputs": [],
      "source": [
        "!git clone https://github.com/Dario-Maglio/Numerical_methods.git\n",
        "%cd Numerical_methods/"
      ]
    },
    {
      "cell_type": "markdown",
      "source": [
        "#Module 1\n",
        "\n",
        "Monte Carlo simulation"
      ],
      "metadata": {
        "id": "_iENaOds_fhl"
      }
    },
    {
      "cell_type": "code",
      "source": [
        "%cd 1.Monte_Carlo/"
      ],
      "metadata": {
        "id": "GXvzGoMi_mOF"
      },
      "execution_count": null,
      "outputs": []
    },
    {
      "cell_type": "code",
      "source": [
        "!touch nome.f90"
      ],
      "metadata": {
        "id": "VZ7fF0tdCcas"
      },
      "execution_count": 5,
      "outputs": []
    },
    {
      "cell_type": "code",
      "source": [
        "!gfortran ising.f -o run_ising"
      ],
      "metadata": {
        "id": "EXk8hEeP_ynJ"
      },
      "execution_count": null,
      "outputs": []
    },
    {
      "cell_type": "code",
      "source": [
        "!./run_ising"
      ],
      "metadata": {
        "id": "iGlQ7hAlAVg_"
      },
      "execution_count": null,
      "outputs": []
    },
    {
      "cell_type": "code",
      "source": [
        "%cd .."
      ],
      "metadata": {
        "id": "N1SAMxOCA-FR"
      },
      "execution_count": null,
      "outputs": []
    },
    {
      "cell_type": "markdown",
      "source": [
        "# Module 2\n",
        "\n",
        "Quantum Ising 1D"
      ],
      "metadata": {
        "id": "qNUB-32KAv4v"
      }
    },
    {
      "cell_type": "code",
      "source": [
        "%cd 2.Ising_Q1D/"
      ],
      "metadata": {
        "id": "5hYptxp_A6Oc"
      },
      "execution_count": null,
      "outputs": []
    },
    {
      "cell_type": "code",
      "source": [
        "%cd .."
      ],
      "metadata": {
        "id": "UcJDHycKBJvC"
      },
      "execution_count": null,
      "outputs": []
    },
    {
      "cell_type": "markdown",
      "source": [
        "# Module 3\n",
        "\n",
        "Path integral simulation"
      ],
      "metadata": {
        "id": "YrXKhtsgBQj0"
      }
    },
    {
      "cell_type": "code",
      "source": [
        "%cd 3.Path_integral/"
      ],
      "metadata": {
        "id": "bJ-RPobWBQj2"
      },
      "execution_count": null,
      "outputs": []
    },
    {
      "cell_type": "code",
      "source": [
        "%cd .."
      ],
      "metadata": {
        "id": "ASvQqpuKBQj4"
      },
      "execution_count": null,
      "outputs": []
    },
    {
      "cell_type": "markdown",
      "source": [
        "#Push to GitHub"
      ],
      "metadata": {
        "id": "sVUoeKCRBc2t"
      }
    },
    {
      "cell_type": "code",
      "source": [
        "!git pull          # scarico gli aggiornamenti al repository da GitHub"
      ],
      "metadata": {
        "id": "tYallEypBpmT"
      },
      "execution_count": null,
      "outputs": []
    },
    {
      "cell_type": "code",
      "source": [
        "!git status        # verifico lo stato e i cambiamenti in locale"
      ],
      "metadata": {
        "id": "7tVAGOyyBiJ-"
      },
      "execution_count": null,
      "outputs": []
    },
    {
      "cell_type": "code",
      "source": [
        "!git add .         # aggiungo all'indice dei cambiamenti le mie modifiche"
      ],
      "metadata": {
        "id": "wCAvzVB4BsQ0"
      },
      "execution_count": null,
      "outputs": []
    },
    {
      "cell_type": "code",
      "source": [
        "# Anna\n",
        "!git config user.email \"nanacaliendo@gmail.com\"\n",
        "!git config user.name  \"Melanna7\"\n",
        "\n",
        "# Dario\n",
        "#!git config user.email \"cafasso.dario@gmail.com\"\n",
        "#!git config user.name  \"Dario_Maglio\""
      ],
      "metadata": {
        "id": "VCZwy59eCMH8"
      },
      "execution_count": null,
      "outputs": []
    },
    {
      "cell_type": "code",
      "source": [
        "!git commit -m \"push from Colab\" # salvo i cambiamenti con un messaggio"
      ],
      "metadata": {
        "id": "GkXtBW9nBy3x"
      },
      "execution_count": null,
      "outputs": []
    },
    {
      "cell_type": "code",
      "source": [
        "# Generate the <TOKEN> in Profile/Setting/Developer_setting/Personal_access_token\n",
        "!git push https://Dario-Maglio:<TOKEN>@github.com/Dario-Maglio/Numerical_methods.git"
      ],
      "metadata": {
        "id": "OU3zPSc9DAhW"
      },
      "execution_count": null,
      "outputs": []
    }
  ]
}