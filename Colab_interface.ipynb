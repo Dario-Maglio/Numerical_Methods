{
 "cells": [
  {
   "cell_type": "markdown",
   "metadata": {
    "colab_type": "text",
    "id": "view-in-github"
   },
   "source": [
    "<a href=\"https://colab.research.google.com/github/Dario-Maglio/Numerical_methods/blob/main/Colab_interface.ipynb\" target=\"_parent\"><img src=\"https://colab.research.google.com/assets/colab-badge.svg\" alt=\"Open In Colab\"/></a>"
   ]
  },
  {
   "cell_type": "markdown",
   "metadata": {
    "id": "lIl09lQS-Lcd"
   },
   "source": [
    "#Colab interface for the \"Metodi numerici\" course\n",
    "\n",
    "\n",
    "\n",
    "1.   Monte Carlo simulation -> Prof. D'Elia\n",
    "2.   Quantum Ising 1D -> Prof. Rossini\n",
    "3.   Path integral simulation -> Prof. D'Elia\n",
    "\n"
   ]
  },
  {
   "cell_type": "markdown",
   "metadata": {
    "id": "4cU4FuEE-YTz"
   },
   "source": [
    "#Get started"
   ]
  },
  {
   "cell_type": "markdown",
   "metadata": {
    "id": "Bp-Zn5yZQop4"
   },
   "source": [
    "Taking attention to the path of the folder we are working in"
   ]
  },
  {
   "cell_type": "code",
   "execution_count": null,
   "metadata": {
    "id": "7bjdiydPEtnS"
   },
   "outputs": [],
   "source": [
    "!pwd                     # show current path"
   ]
  },
  {
   "cell_type": "markdown",
   "metadata": {
    "id": "G-Mub-aGRMo9"
   },
   "source": [
    "Download useful packages and import python modules"
   ]
  },
  {
   "cell_type": "code",
   "execution_count": null,
   "metadata": {
    "id": "0dyO9X6zRNA1"
   },
   "outputs": [],
   "source": [
    "!apt-get install git\n",
    "!pip install numpy matplotlib"
   ]
  },
  {
   "cell_type": "code",
   "execution_count": 3,
   "metadata": {
    "id": "CC5-I512VfKZ"
   },
   "outputs": [],
   "source": [
    "import os\n",
    "\n",
    "import numpy as np\n",
    "import matplotlib.pyplot as plt"
   ]
  },
  {
   "cell_type": "markdown",
   "metadata": {
    "id": "YLh8_glYGSI6"
   },
   "source": [
    "Clone the repository and change the current directory"
   ]
  },
  {
   "cell_type": "code",
   "execution_count": null,
   "metadata": {
    "id": "NhbD7ZH7-BCZ"
   },
   "outputs": [],
   "source": [
    "!git clone https://github.com/Dario-Maglio/Numerical_methods.git\n",
    "%cd Numerical_methods/"
   ]
  },
  {
   "cell_type": "markdown",
   "metadata": {
    "id": "_iENaOds_fhl"
   },
   "source": [
    "#Module 1\n",
    "\n",
    "Monte Carlo simulation"
   ]
  },
  {
   "cell_type": "code",
   "execution_count": null,
   "metadata": {
    "id": "kFrQcEy70iaI"
   },
   "outputs": [],
   "source": [
    "%cd 1.Monte_Carlo/"
   ]
  },
  {
   "cell_type": "code",
   "execution_count": null,
   "metadata": {
    "id": "VZ7fF0tdCcas"
   },
   "outputs": [],
   "source": [
    "!touch nome.f90               "
   ]
  },
  {
   "cell_type": "code",
   "execution_count": 14,
   "metadata": {
    "id": "uoDlqFKJ2CjO"
   },
   "outputs": [],
   "source": [
    "!rm nome.f90"
   ]
  },
  {
   "cell_type": "markdown",
   "metadata": {
    "id": "qUMDj2hBWGHT"
   },
   "source": [
    "Execute programs"
   ]
  },
  {
   "cell_type": "code",
   "execution_count": 7,
   "metadata": {
    "id": "EXk8hEeP_ynJ"
   },
   "outputs": [],
   "source": [
    "# With bash commands\n",
    "!gfortran ising.f -o run_ising\n",
    "!./run_ising\n",
    "\n",
    "# With python commands\n",
    "#os.system('gfortran ising.f -o run_ising')\n",
    "#os.system('!./run_ising')"
   ]
  },
  {
   "cell_type": "markdown",
   "metadata": {
    "id": "-ABxkWATWO7V"
   },
   "source": [
    "Make calculations and stuff with the output"
   ]
  },
  {
   "cell_type": "code",
   "execution_count": 8,
   "metadata": {
    "id": "HAOLkjvQaVgu"
   },
   "outputs": [],
   "source": [
    "a = np.loadtxt('data.dat', unpack='True')\n",
    "\n",
    "x = a[0, :]\n",
    "y = a[1, :]\n",
    "z = a[2, :]"
   ]
  },
  {
   "cell_type": "code",
   "execution_count": 9,
   "metadata": {
    "colab": {
     "base_uri": "https://localhost:8080/",
     "height": 279
    },
    "id": "tG1Gr0mZVKjs",
    "outputId": "9cd59227-ce4c-4e28-a476-112c00d34c6e"
   },
   "outputs": [
    {
     "data": {
      "image/png": "[encoded data removed]",
      "text/plain": [
       "<Figure size 432x288 with 1 Axes>"
      ]
     },
     "metadata": {
      "needs_background": "light"
     },
     "output_type": "display_data"
    }
   ],
   "source": [
    "plt.figure(\"Figura 1\")\n",
    "plt.scatter(x, y, label='Points')\n",
    "plt.xlabel('Numeri')\n",
    "plt.ylabel('Risultati')\n",
    "plt.legend(loc='lower right')\n",
    "plt.show()"
   ]
  },
  {
   "cell_type": "markdown",
   "metadata": {
    "id": "5I6Kf_wnWtRy"
   },
   "source": [
    "At last, remove things you don't need anymore and move to the main directory"
   ]
  },
  {
   "cell_type": "code",
   "execution_count": 10,
   "metadata": {
    "id": "o_oubMUMWWTe"
   },
   "outputs": [],
   "source": [
    "# With bash commands\n",
    "!rm run_ising\n",
    "\n",
    "# With python commands\n",
    "#os.system('rm run_ising')"
   ]
  },
  {
   "cell_type": "code",
   "execution_count": null,
   "metadata": {
    "id": "hmObJFDH0iaN"
   },
   "outputs": [],
   "source": [
    "%cd .."
   ]
  },
  {
   "cell_type": "markdown",
   "metadata": {
    "id": "qNUB-32KAv4v"
   },
   "source": [
    "# Module 2\n",
    "\n",
    "Quantum Ising 1D"
   ]
  },
  {
   "cell_type": "code",
   "execution_count": null,
   "metadata": {
    "id": "5hYptxp_A6Oc"
   },
   "outputs": [],
   "source": [
    "%cd 2.Ising_Q1D/"
   ]
  },
  {
   "cell_type": "code",
   "execution_count": null,
   "metadata": {
    "id": "UcJDHycKBJvC"
   },
   "outputs": [],
   "source": [
    "%cd .."
   ]
  },
  {
   "cell_type": "markdown",
   "metadata": {
    "id": "YrXKhtsgBQj0"
   },
   "source": [
    "# Module 3\n",
    "\n",
    "Path integral simulation"
   ]
  },
  {
   "cell_type": "code",
   "execution_count": null,
   "metadata": {
    "id": "bJ-RPobWBQj2"
   },
   "outputs": [],
   "source": [
    "%cd 3.Path_integral/"
   ]
  },
  {
   "cell_type": "code",
   "execution_count": null,
   "metadata": {
    "id": "ASvQqpuKBQj4"
   },
   "outputs": [],
   "source": [
    "%cd .."
   ]
  },
  {
   "cell_type": "markdown",
   "metadata": {
    "id": "sVUoeKCRBc2t"
   },
   "source": [
    "#Push to GitHub"
   ]
  },
  {
   "cell_type": "code",
   "execution_count": null,
   "metadata": {
    "id": "tYallEypBpmT"
   },
   "outputs": [],
   "source": [
    "!git pull          # update your local version of the repository"
   ]
  },
  {
   "cell_type": "code",
   "execution_count": null,
   "metadata": {
    "id": "7tVAGOyyBiJ-"
   },
   "outputs": [],
   "source": [
    "!git status        # check the changes you made to your local version of the repository"
   ]
  },
  {
   "cell_type": "code",
   "execution_count": null,
   "metadata": {
    "id": "wCAvzVB4BsQ0"
   },
   "outputs": [],
   "source": [
    "!git add .         # add the changes that you want to save, to the commit list "
   ]
  },
  {
   "cell_type": "code",
   "execution_count": null,
   "metadata": {
    "id": "VCZwy59eCMH8"
   },
   "outputs": [],
   "source": [
    "# Anna\n",
    "!git config user.email \"nanacaliendo@gmail.com\"\n",
    "!git config user.name  \"Melanna7\"\n",
    "\n",
    "# Dario\n",
    "#!git config user.email \"cafasso.dario@gmail.com\"\n",
    "#!git config user.name  \"Dario_Maglio\""
   ]
  },
  {
   "cell_type": "code",
   "execution_count": null,
   "metadata": {
    "id": "GkXtBW9nBy3x"
   },
   "outputs": [],
   "source": [
    "!git commit -m \"push from Colab interface\"    # save changes in your local version of the repository"
   ]
  },
  {
   "cell_type": "code",
   "execution_count": null,
   "metadata": {
    "id": "OU3zPSc9DAhW"
   },
   "outputs": [],
   "source": [
    "# Generate the <TOKEN> in Profile/Setting/Developer_setting/Personal_access_token\n",
    "!git push https://Dario-Maglio:<TOKEN>@github.com/Dario-Maglio/Numerical_methods.git  # save changes on GitHub"
   ]
  }
 ],
 "metadata": {
  "colab": {
   "include_colab_link": true,
   "provenance": []
  },
  "kernelspec": {
   "display_name": "Python 3 (ipykernel)",
   "language": "python",
   "name": "python3"
  },
  "language_info": {
   "codemirror_mode": {
    "name": "ipython",
    "version": 3
   },
   "file_extension": ".py",
   "mimetype": "text/x-python",
   "name": "python",
   "nbconvert_exporter": "python",
   "pygments_lexer": "ipython3",
   "version": "3.10.4"
  }
 },
 "nbformat": 4,
 "nbformat_minor": 1
}
