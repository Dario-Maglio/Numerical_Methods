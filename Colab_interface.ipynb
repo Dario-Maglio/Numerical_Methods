{
  "nbformat": 4,
  "nbformat_minor": 0,
  "metadata": {
    "colab": {
      "provenance": [],
      "include_colab_link": true
    },
    "kernelspec": {
      "name": "python3",
      "display_name": "Python 3"
    },
    "language_info": {
      "name": "python"
    }
  },
  "cells": [
    {
      "cell_type": "markdown",
      "metadata": {
        "id": "view-in-github",
        "colab_type": "text"
      },
      "source": [
        "<a href=\"https://colab.research.google.com/github/Dario-Maglio/Numerical_methods/blob/main/Colab_interface.ipynb\" target=\"_parent\"><img src=\"https://colab.research.google.com/assets/colab-badge.svg\" alt=\"Open In Colab\"/></a>"
      ]
    },
    {
      "cell_type": "markdown",
      "source": [
        "#Colab interface for the \"Metodi numerici\" course\n",
        "\n",
        "\n",
        "\n",
        "1.   Monte Carlo simulation -> Prof. D'Elia\n",
        "2.   Quantum Ising 1D -> Prof. Rossini\n",
        "3.   Path integral simulation -> Prof. D'Elia\n",
        "\n"
      ],
      "metadata": {
        "id": "lIl09lQS-Lcd"
      }
    },
    {
      "cell_type": "markdown",
      "source": [
        "#Get started"
      ],
      "metadata": {
        "id": "4cU4FuEE-YTz"
      }
    },
    {
      "cell_type": "markdown",
      "source": [
        "Clone the repository and change directory"
      ],
      "metadata": {
        "id": "YLh8_glYGSI6"
      }
    },
    {
      "cell_type": "code",
      "execution_count": 1,
      "metadata": {
        "id": "NhbD7ZH7-BCZ",
        "colab": {
          "base_uri": "https://localhost:8080/"
        },
        "outputId": "2f52e272-e90f-4fc6-a74c-2933a35fe70a"
      },
      "outputs": [
        {
          "output_type": "stream",
          "name": "stdout",
          "text": [
            "Cloning into 'Numerical_methods'...\n",
            "remote: Enumerating objects: 220, done.\u001b[K\n",
            "remote: Counting objects: 100% (49/49), done.\u001b[K\n",
            "remote: Compressing objects: 100% (38/38), done.\u001b[K\n",
            "remote: Total 220 (delta 17), reused 35 (delta 11), pack-reused 171\u001b[K\n",
            "Receiving objects: 100% (220/220), 82.45 MiB | 36.52 MiB/s, done.\n",
            "Resolving deltas: 100% (24/24), done.\n",
            "/content/Numerical_methods\n"
          ]
        }
      ],
      "source": [
        "!git clone https://github.com/Dario-Maglio/Numerical_methods.git\n",
        "%cd Numerical_methods/"
      ]
    },
    {
      "cell_type": "markdown",
      "source": [
        "#Module 1\n",
        "\n",
        "Monte Carlo simulation"
      ],
      "metadata": {
        "id": "_iENaOds_fhl"
      }
    },
    {
      "cell_type": "code",
      "source": [
        "%cd 1.Monte_Carlo/"
      ],
      "metadata": {
        "id": "GXvzGoMi_mOF",
        "colab": {
          "base_uri": "https://localhost:8080/"
        },
        "outputId": "287ae469-9e84-460d-9aa9-89a7e39f8e56"
      },
      "execution_count": 2,
      "outputs": [
        {
          "output_type": "stream",
          "name": "stdout",
          "text": [
            "/content/Numerical_methods/1.Monte_Carlo\n"
          ]
        }
      ]
    },
    {
      "cell_type": "code",
      "source": [
        "!touch nome.f90"
      ],
      "metadata": {
        "id": "VZ7fF0tdCcas"
      },
      "execution_count": 3,
      "outputs": []
    },
    {
      "cell_type": "code",
      "source": [
        "!gfortran ising.f -o run_ising"
      ],
      "metadata": {
        "id": "EXk8hEeP_ynJ"
      },
      "execution_count": null,
      "outputs": []
    },
    {
      "cell_type": "code",
      "source": [
        "!./run_ising"
      ],
      "metadata": {
        "id": "iGlQ7hAlAVg_"
      },
      "execution_count": null,
      "outputs": []
    },
    {
      "cell_type": "code",
      "source": [
        "!pwd"
      ],
      "metadata": {
        "colab": {
          "base_uri": "https://localhost:8080/"
        },
        "id": "7bjdiydPEtnS",
        "outputId": "9251b498-ac7b-4860-9fb6-0828e194dcce"
      },
      "execution_count": 6,
      "outputs": [
        {
          "output_type": "stream",
          "name": "stdout",
          "text": [
            "/content/Numerical_methods/1.Monte_Carlo\n"
          ]
        }
      ]
    },
    {
      "cell_type": "code",
      "source": [
        "%cd .."
      ],
      "metadata": {
        "id": "N1SAMxOCA-FR",
        "colab": {
          "base_uri": "https://localhost:8080/"
        },
        "outputId": "7fe4fcf2-2ab8-4d09-eeee-948fb9d6d938"
      },
      "execution_count": 9,
      "outputs": [
        {
          "output_type": "stream",
          "name": "stdout",
          "text": [
            "/\n"
          ]
        }
      ]
    },
    {
      "cell_type": "code",
      "source": [
        "%cd Numerical_methods/"
      ],
      "metadata": {
        "colab": {
          "base_uri": "https://localhost:8080/"
        },
        "id": "U5XJ9j__FYoE",
        "outputId": "ca30e088-f7e0-4239-bbf2-b05f8b64ebda"
      },
      "execution_count": 12,
      "outputs": [
        {
          "output_type": "stream",
          "name": "stdout",
          "text": [
            "/content/Numerical_methods\n"
          ]
        }
      ]
    },
    {
      "cell_type": "markdown",
      "source": [
        "# Module 2\n",
        "\n",
        "Quantum Ising 1D"
      ],
      "metadata": {
        "id": "qNUB-32KAv4v"
      }
    },
    {
      "cell_type": "code",
      "source": [
        "%cd 2.Ising_Q1D/"
      ],
      "metadata": {
        "id": "5hYptxp_A6Oc",
        "colab": {
          "base_uri": "https://localhost:8080/"
        },
        "outputId": "221efff2-2a70-4d8a-ad1d-465832c41a77"
      },
      "execution_count": 13,
      "outputs": [
        {
          "output_type": "stream",
          "name": "stdout",
          "text": [
            "/content/Numerical_methods/2.Ising_Q1D\n"
          ]
        }
      ]
    },
    {
      "cell_type": "code",
      "source": [
        "%cd .."
      ],
      "metadata": {
        "id": "UcJDHycKBJvC"
      },
      "execution_count": null,
      "outputs": []
    },
    {
      "cell_type": "markdown",
      "source": [
        "# Module 3\n",
        "\n",
        "Path integral simulation"
      ],
      "metadata": {
        "id": "YrXKhtsgBQj0"
      }
    },
    {
      "cell_type": "code",
      "source": [
        "%cd 3.Path_integral/"
      ],
      "metadata": {
        "id": "bJ-RPobWBQj2"
      },
      "execution_count": null,
      "outputs": []
    },
    {
      "cell_type": "code",
      "source": [
        "%cd .."
      ],
      "metadata": {
        "id": "ASvQqpuKBQj4"
      },
      "execution_count": null,
      "outputs": []
    },
    {
      "cell_type": "markdown",
      "source": [
        "#Push to GitHub"
      ],
      "metadata": {
        "id": "sVUoeKCRBc2t"
      }
    },
    {
      "cell_type": "code",
      "source": [
        "!git pull          # scarico gli aggiornamenti al repository da GitHub"
      ],
      "metadata": {
        "id": "tYallEypBpmT",
        "colab": {
          "base_uri": "https://localhost:8080/"
        },
        "outputId": "d5b5418b-a9bb-41fe-b9f6-3f6dc3a8c8de"
      },
      "execution_count": 31,
      "outputs": [
        {
          "output_type": "stream",
          "name": "stdout",
          "text": [
            "remote: Enumerating objects: 5, done.\u001b[K\n",
            "remote: Counting objects:  20% (1/5)\u001b[K\rremote: Counting objects:  40% (2/5)\u001b[K\rremote: Counting objects:  60% (3/5)\u001b[K\rremote: Counting objects:  80% (4/5)\u001b[K\rremote: Counting objects: 100% (5/5)\u001b[K\rremote: Counting objects: 100% (5/5), done.\u001b[K\n",
            "remote: Compressing objects:  33% (1/3)\u001b[K\rremote: Compressing objects:  66% (2/3)\u001b[K\rremote: Compressing objects: 100% (3/3)\u001b[K\rremote: Compressing objects: 100% (3/3), done.\u001b[K\n",
            "remote: Total 3 (delta 2), reused 0 (delta 0), pack-reused 0\u001b[K\n",
            "Unpacking objects:  33% (1/3)   \rUnpacking objects:  66% (2/3)   \rUnpacking objects: 100% (3/3)   \rUnpacking objects: 100% (3/3), done.\n",
            "From https://github.com/Dario-Maglio/Numerical_methods\n",
            "   7ec7ead..3eb6bd6  main       -> origin/main\n",
            "hint: Waiting for your editor to close the file... error: unable to start editor 'editor'\n",
            "Not committing merge; use 'git commit' to complete the merge.\n"
          ]
        }
      ]
    },
    {
      "cell_type": "code",
      "source": [
        "!git status        # verifico lo stato e i cambiamenti in locale"
      ],
      "metadata": {
        "id": "7tVAGOyyBiJ-",
        "colab": {
          "base_uri": "https://localhost:8080/"
        },
        "outputId": "237d0e44-7055-457a-9759-b8c55412f501"
      },
      "execution_count": 32,
      "outputs": [
        {
          "output_type": "stream",
          "name": "stdout",
          "text": [
            "On branch main\n",
            "Your branch and 'origin/main' have diverged,\n",
            "and have 1 and 1 different commits each, respectively.\n",
            "  (use \"git pull\" to merge the remote branch into yours)\n",
            "\n",
            "All conflicts fixed but you are still merging.\n",
            "  (use \"git commit\" to conclude merge)\n",
            "\n",
            "Changes to be committed:\n",
            "\n",
            "\t\u001b[32mmodified:   Colab_interface.ipynb\u001b[m\n",
            "\n"
          ]
        }
      ]
    },
    {
      "cell_type": "code",
      "source": [
        "!git add .         # aggiungo all'indice dei cambiamenti le mie modifiche"
      ],
      "metadata": {
        "id": "wCAvzVB4BsQ0"
      },
      "execution_count": 33,
      "outputs": []
    },
    {
      "cell_type": "code",
      "source": [
        "# Anna\n",
        "!git config user.email \"nanacaliendo@gmail.com\"\n",
        "!git config user.name  \"Melanna7\"\n",
        "\n",
        "# Dario\n",
        "#!git config user.email \"cafasso.dario@gmail.com\"\n",
        "#!git config user.name  \"Dario_Maglio\""
      ],
      "metadata": {
        "id": "VCZwy59eCMH8"
      },
      "execution_count": 27,
      "outputs": []
    },
    {
      "cell_type": "code",
      "source": [
        "!git commit -m \"push from Colab\" # salvo i cambiamenti con un messaggio"
      ],
      "metadata": {
        "id": "GkXtBW9nBy3x",
        "colab": {
          "base_uri": "https://localhost:8080/"
        },
        "outputId": "9b9edfef-bf1e-4c39-a022-d9f47d0ab37d"
      },
      "execution_count": 34,
      "outputs": [
        {
          "output_type": "stream",
          "name": "stdout",
          "text": [
            "[main 625a9e4] push from Colab\n"
          ]
        }
      ]
    },
    {
      "cell_type": "code",
      "source": [
        "# Generate the <TOKEN> in Profile/Setting/Developer_setting/Personal_access_token\n",
        "!git push https://Dario-Maglio:<TOKEN>@github.com/Dario-Maglio/Numerical_methods.git"
      ],
      "metadata": {
        "id": "OU3zPSc9DAhW",
        "colab": {
          "base_uri": "https://localhost:8080/"
        },
        "outputId": "39992dbd-1c85-413e-898e-b61f69cc1b77"
      },
      "execution_count": 36,
      "outputs": [
        {
          "output_type": "stream",
          "name": "stdout",
          "text": [
            "/bin/bash: TOKEN: No such file or directory\n"
          ]
        }
      ]
    }
  ]
}