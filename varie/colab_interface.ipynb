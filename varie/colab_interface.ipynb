{
  "cells": [
    {
      "cell_type": "markdown",
      "metadata": {
        "id": "view-in-github",
        "colab_type": "text"
      },
      "source": [
        "<a href=\"https://colab.research.google.com/github/Dario-Maglio/Numerical_Methods/blob/main/varie/Colab_interface.ipynb\" target=\"_parent\"><img src=\"https://colab.research.google.com/assets/colab-badge.svg\" alt=\"Open In Colab\"/></a>"
      ]
    },
    {
      "cell_type": "markdown",
      "metadata": {
        "id": "lIl09lQS-Lcd"
      },
      "source": [
        "#Colab interface \n",
        "\n",
        "\n",
        "\n",
        "1.   Monte Carlo simulation\n",
        "2.   Quantum Ising 1D\n",
        "3.   Path integral simulation \n",
        "\n"
      ]
    },
    {
      "cell_type": "markdown",
      "metadata": {
        "id": "4cU4FuEE-YTz"
      },
      "source": [
        "#Get started"
      ]
    },
    {
      "cell_type": "markdown",
      "metadata": {
        "id": "YLh8_glYGSI6"
      },
      "source": [
        "Clone the repository and change the current directory"
      ]
    },
    {
      "cell_type": "code",
      "execution_count": null,
      "metadata": {
        "id": "NhbD7ZH7-BCZ"
      },
      "outputs": [],
      "source": [
        "!git clone https://github.com/Dario-Maglio/Numerical_methods.git\n",
        "%cd Numerical_methods/"
      ]
    },
    {
      "cell_type": "markdown",
      "metadata": {
        "id": "_iENaOds_fhl"
      },
      "source": [
        "#Module 1\n",
        "\n",
        "Monte Carlo simulation\n"
      ]
    },
    {
      "cell_type": "code",
      "execution_count": null,
      "metadata": {
        "id": "kFrQcEy70iaI"
      },
      "outputs": [],
      "source": [
        "%cd Application_projects/"
      ]
    },
    {
      "cell_type": "markdown",
      "metadata": {
        "id": "qUMDj2hBWGHT"
      },
      "source": [
        "Execute programs"
      ]
    },
    {
      "cell_type": "code",
      "execution_count": null,
      "metadata": {
        "id": "EXk8hEeP_ynJ"
      },
      "outputs": [],
      "source": [
        "!g++ ....h .....cpp -o main.out\n",
        "!./main.out"
      ]
    },
    {
      "cell_type": "markdown",
      "metadata": {
        "id": "5I6Kf_wnWtRy"
      },
      "source": [
        "At last, remove things you don't need anymore and move to the main directory"
      ]
    },
    {
      "cell_type": "code",
      "execution_count": null,
      "metadata": {
        "id": "hmObJFDH0iaN"
      },
      "outputs": [],
      "source": [
        "%cd .."
      ]
    },
    {
      "cell_type": "markdown",
      "metadata": {
        "id": "qNUB-32KAv4v"
      },
      "source": [
        "# Module 2\n",
        "\n",
        "Quantum Ising 1D"
      ]
    },
    {
      "cell_type": "markdown",
      "metadata": {
        "id": "YrXKhtsgBQj0"
      },
      "source": [
        "# Module 3\n",
        "\n",
        "Path integral simulation"
      ]
    },
    {
      "cell_type": "markdown",
      "metadata": {
        "id": "sVUoeKCRBc2t"
      },
      "source": [
        "#Push to GitHub"
      ]
    },
    {
      "cell_type": "code",
      "execution_count": null,
      "metadata": {
        "id": "tYallEypBpmT"
      },
      "outputs": [],
      "source": [
        "!git pull          # update your local version of the repository"
      ]
    },
    {
      "cell_type": "code",
      "execution_count": null,
      "metadata": {
        "id": "7tVAGOyyBiJ-"
      },
      "outputs": [],
      "source": [
        "!git status        # check the changes you made to your local version of the repository"
      ]
    },
    {
      "cell_type": "code",
      "execution_count": null,
      "metadata": {
        "id": "wCAvzVB4BsQ0"
      },
      "outputs": [],
      "source": [
        "!git add .         # add the changes that you want to save, to the commit list "
      ]
    },
    {
      "cell_type": "code",
      "execution_count": null,
      "metadata": {
        "id": "VCZwy59eCMH8"
      },
      "outputs": [],
      "source": [
        "# Anna\n",
        "!git config user.email \"nanacaliendo@gmail.com\"\n",
        "!git config user.name  \"Melanna7\"\n",
        "\n",
        "# Dario\n",
        "#!git config user.email \"cafasso.dario@gmail.com\"\n",
        "#!git config user.name  \"Dario_Maglio\""
      ]
    },
    {
      "cell_type": "code",
      "execution_count": null,
      "metadata": {
        "id": "GkXtBW9nBy3x"
      },
      "outputs": [],
      "source": [
        "!git commit -m \"implemented bootstrap and blocking algorithm in ising 2D\"    # save changes in your local version of the repository"
      ]
    },
    {
      "cell_type": "code",
      "execution_count": null,
      "metadata": {
        "id": "OU3zPSc9DAhW"
      },
      "outputs": [],
      "source": [
        "# Generate the <TOKEN> in Profile/Setting/Developer_setting/Personal_access_token\n",
        "!git push https://Dario-Maglio:<TOKEN>@github.com/Dario-Maglio/Numerical_Methods.git  # save changes on GitHub"
      ]
    }
  ],
  "metadata": {
    "colab": {
      "provenance": [],
      "include_colab_link": true
    },
    "kernelspec": {
      "display_name": "Python 3 (ipykernel)",
      "language": "python",
      "name": "python3"
    },
    "language_info": {
      "codemirror_mode": {
        "name": "ipython",
        "version": 3
      },
      "file_extension": ".py",
      "mimetype": "text/x-python",
      "name": "python",
      "nbconvert_exporter": "python",
      "pygments_lexer": "ipython3",
      "version": "3.10.4"
    }
  },
  "nbformat": 4,
  "nbformat_minor": 0
}
